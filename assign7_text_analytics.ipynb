{
 "cells": [
  {
   "cell_type": "code",
   "execution_count": 1,
   "id": "33b0878c-28a4-4b50-aba2-eab27b7f2939",
   "metadata": {},
   "outputs": [
    {
     "name": "stderr",
     "output_type": "stream",
     "text": [
      "[nltk_data] Downloading package punkt to C:\\Users\\TANVI\n",
      "[nltk_data]     RAINAK\\AppData\\Roaming\\nltk_data...\n",
      "[nltk_data]   Package punkt is already up-to-date!\n",
      "[nltk_data] Downloading package stopwords to C:\\Users\\TANVI\n",
      "[nltk_data]     RAINAK\\AppData\\Roaming\\nltk_data...\n",
      "[nltk_data]   Package stopwords is already up-to-date!\n",
      "[nltk_data] Downloading package wordnet to C:\\Users\\TANVI\n",
      "[nltk_data]     RAINAK\\AppData\\Roaming\\nltk_data...\n",
      "[nltk_data]   Package wordnet is already up-to-date!\n",
      "[nltk_data] Downloading package averaged_perceptron_tagger to\n",
      "[nltk_data]     C:\\Users\\TANVI RAINAK\\AppData\\Roaming\\nltk_data...\n",
      "[nltk_data]   Package averaged_perceptron_tagger is already up-to-\n",
      "[nltk_data]       date!\n",
      "[nltk_data] Downloading package omw-1.4 to C:\\Users\\TANVI\n",
      "[nltk_data]     RAINAK\\AppData\\Roaming\\nltk_data...\n"
     ]
    },
    {
     "data": {
      "text/plain": [
       "True"
      ]
     },
     "execution_count": 1,
     "metadata": {},
     "output_type": "execute_result"
    }
   ],
   "source": [
    "import nltk\n",
    "nltk.download(\"punkt\")\n",
    "nltk.download(\"stopwords\")\n",
    "nltk.download(\"wordnet\")\n",
    "nltk.download(\"averaged_perceptron_tagger\")\n",
    "nltk.download('omw-1.4')"
   ]
  },
  {
   "cell_type": "code",
   "execution_count": 2,
   "id": "cb4cb67b-0535-47d9-aa05-bad4a01116fa",
   "metadata": {},
   "outputs": [],
   "source": [
    "import pandas as pd\n",
    "import numpy as np\n",
    "import nltk\n",
    "from nltk.corpus import stopwords\n",
    "from nltk.stem import WordNetLemmatizer\n",
    "from nltk.stem import SnowballStemmer"
   ]
  },
  {
   "cell_type": "code",
   "execution_count": 4,
   "id": "0e4a01fa-348c-4770-b83a-6cd493fb61c6",
   "metadata": {},
   "outputs": [
    {
     "data": {
      "text/html": [
       "<div>\n",
       "<style scoped>\n",
       "    .dataframe tbody tr th:only-of-type {\n",
       "        vertical-align: middle;\n",
       "    }\n",
       "\n",
       "    .dataframe tbody tr th {\n",
       "        vertical-align: top;\n",
       "    }\n",
       "\n",
       "    .dataframe thead th {\n",
       "        text-align: right;\n",
       "    }\n",
       "</style>\n",
       "<table border=\"1\" class=\"dataframe\">\n",
       "  <thead>\n",
       "    <tr style=\"text-align: right;\">\n",
       "      <th></th>\n",
       "      <th>rating</th>\n",
       "      <th>date</th>\n",
       "      <th>variation</th>\n",
       "      <th>verified_reviews</th>\n",
       "      <th>feedback</th>\n",
       "    </tr>\n",
       "  </thead>\n",
       "  <tbody>\n",
       "    <tr>\n",
       "      <th>0</th>\n",
       "      <td>5</td>\n",
       "      <td>31-Jul-18</td>\n",
       "      <td>Charcoal Fabric</td>\n",
       "      <td>Love my Echo!</td>\n",
       "      <td>1</td>\n",
       "    </tr>\n",
       "    <tr>\n",
       "      <th>1</th>\n",
       "      <td>5</td>\n",
       "      <td>31-Jul-18</td>\n",
       "      <td>Charcoal Fabric</td>\n",
       "      <td>Loved it!</td>\n",
       "      <td>1</td>\n",
       "    </tr>\n",
       "    <tr>\n",
       "      <th>2</th>\n",
       "      <td>4</td>\n",
       "      <td>31-Jul-18</td>\n",
       "      <td>Walnut Finish</td>\n",
       "      <td>Sometimes while playing a game, you can answer...</td>\n",
       "      <td>1</td>\n",
       "    </tr>\n",
       "    <tr>\n",
       "      <th>3</th>\n",
       "      <td>5</td>\n",
       "      <td>31-Jul-18</td>\n",
       "      <td>Charcoal Fabric</td>\n",
       "      <td>I have had a lot of fun with this thing. My 4 ...</td>\n",
       "      <td>1</td>\n",
       "    </tr>\n",
       "    <tr>\n",
       "      <th>4</th>\n",
       "      <td>5</td>\n",
       "      <td>31-Jul-18</td>\n",
       "      <td>Charcoal Fabric</td>\n",
       "      <td>Music</td>\n",
       "      <td>1</td>\n",
       "    </tr>\n",
       "  </tbody>\n",
       "</table>\n",
       "</div>"
      ],
      "text/plain": [
       "   rating       date         variation  \\\n",
       "0       5  31-Jul-18  Charcoal Fabric    \n",
       "1       5  31-Jul-18  Charcoal Fabric    \n",
       "2       4  31-Jul-18    Walnut Finish    \n",
       "3       5  31-Jul-18  Charcoal Fabric    \n",
       "4       5  31-Jul-18  Charcoal Fabric    \n",
       "\n",
       "                                    verified_reviews  feedback  \n",
       "0                                      Love my Echo!         1  \n",
       "1                                          Loved it!         1  \n",
       "2  Sometimes while playing a game, you can answer...         1  \n",
       "3  I have had a lot of fun with this thing. My 4 ...         1  \n",
       "4                                              Music         1  "
      ]
     },
     "execution_count": 4,
     "metadata": {},
     "output_type": "execute_result"
    }
   ],
   "source": [
    "df = pd.read_csv('C:/Users/TANVI RAINAK/OneDrive/Documents/Dataset/AmazonAlexa_Reviews.csv')\n",
    "df.head()"
   ]
  },
  {
   "cell_type": "code",
   "execution_count": 5,
   "id": "0436ff67-a5ad-41e0-ac7e-00baadcdc649",
   "metadata": {},
   "outputs": [
    {
     "name": "stdout",
     "output_type": "stream",
     "text": [
      "Love my Echo!. Loved it!. Sometimes while playing a game, you can answer a question correctly but Alexa says you got it wrong and answers the same as you.  I like being able to turn lights on and off while away from home.. I have had a lot of fun with this thing. My 4 yr old learns about dinosaurs, i control the lights and play games like categories. Has nice sound when playing music as well.. Music\n"
     ]
    }
   ],
   "source": [
    "Ex = \"\"\n",
    "Ex = '. '.join(df['verified_reviews'].head())\n",
    "print(Ex)"
   ]
  },
  {
   "cell_type": "code",
   "execution_count": 6,
   "id": "2f3ca260-e0f5-4d36-bd75-e61284fc548f",
   "metadata": {},
   "outputs": [
    {
     "name": "stdout",
     "output_type": "stream",
     "text": [
      "['i', 'me', 'my', 'myself', 'we', 'our', 'ours', 'ourselves', 'you', \"you're\", \"you've\", \"you'll\", \"you'd\", 'your', 'yours', 'yourself', 'yourselves', 'he', 'him', 'his', 'himself', 'she', \"she's\", 'her', 'hers', 'herself', 'it', \"it's\", 'its', 'itself', 'they', 'them', 'their', 'theirs', 'themselves', 'what', 'which', 'who', 'whom', 'this', 'that', \"that'll\", 'these', 'those', 'am', 'is', 'are', 'was', 'were', 'be', 'been', 'being', 'have', 'has', 'had', 'having', 'do', 'does', 'did', 'doing', 'a', 'an', 'the', 'and', 'but', 'if', 'or', 'because', 'as', 'until', 'while', 'of', 'at', 'by', 'for', 'with', 'about', 'against', 'between', 'into', 'through', 'during', 'before', 'after', 'above', 'below', 'to', 'from', 'up', 'down', 'in', 'out', 'on', 'off', 'over', 'under', 'again', 'further', 'then', 'once', 'here', 'there', 'when', 'where', 'why', 'how', 'all', 'any', 'both', 'each', 'few', 'more', 'most', 'other', 'some', 'such', 'no', 'nor', 'not', 'only', 'own', 'same', 'so', 'than', 'too', 'very', 's', 't', 'can', 'will', 'just', 'don', \"don't\", 'should', \"should've\", 'now', 'd', 'll', 'm', 'o', 're', 've', 'y', 'ain', 'aren', \"aren't\", 'couldn', \"couldn't\", 'didn', \"didn't\", 'doesn', \"doesn't\", 'hadn', \"hadn't\", 'hasn', \"hasn't\", 'haven', \"haven't\", 'isn', \"isn't\", 'ma', 'mightn', \"mightn't\", 'mustn', \"mustn't\", 'needn', \"needn't\", 'shan', \"shan't\", 'shouldn', \"shouldn't\", 'wasn', \"wasn't\", 'weren', \"weren't\", 'won', \"won't\", 'wouldn', \"wouldn't\"]\n"
     ]
    }
   ],
   "source": [
    "stopword = stopwords.words('english')\n",
    "print(stopword)"
   ]
  },
  {
   "cell_type": "code",
   "execution_count": 7,
   "id": "f63c3b41-bc16-4fcb-adae-d89e8f8450af",
   "metadata": {},
   "outputs": [
    {
     "data": {
      "text/plain": [
       "'love my echo!. loved it!. sometimes while playing a game, you can answer a question correctly but alexa says you got it wrong and answers the same as you.  i like being able to turn lights on and off while away from home.. i have had a lot of fun with this thing. my 4 yr old learns about dinosaurs, i control the lights and play games like categories. has nice sound when playing music as well.. music'"
      ]
     },
     "execution_count": 7,
     "metadata": {},
     "output_type": "execute_result"
    }
   ],
   "source": [
    "Ex = Ex.lower()\n",
    "Ex"
   ]
  },
  {
   "cell_type": "code",
   "execution_count": 8,
   "id": "34378ea1-ff04-4f46-a06e-3869b9faae8e",
   "metadata": {},
   "outputs": [
    {
     "name": "stdout",
     "output_type": "stream",
     "text": [
      "['love', 'my', 'echo', '!', '.', 'loved', 'it', '!', '.', 'sometimes', 'while', 'playing', 'a', 'game', ',', 'you', 'can', 'answer', 'a', 'question', 'correctly', 'but', 'alexa', 'says', 'you', 'got', 'it', 'wrong', 'and', 'answers', 'the', 'same', 'as', 'you', '.', 'i', 'like', 'being', 'able', 'to', 'turn', 'lights', 'on', 'and', 'off', 'while', 'away', 'from', 'home', '..', 'i', 'have', 'had', 'a', 'lot', 'of', 'fun', 'with', 'this', 'thing', '.', 'my', '4', 'yr', 'old', 'learns', 'about', 'dinosaurs', ',', 'i', 'control', 'the', 'lights', 'and', 'play', 'games', 'like', 'categories', '.', 'has', 'nice', 'sound', 'when', 'playing', 'music', 'as', 'well', '..', 'music']\n"
     ]
    }
   ],
   "source": [
    "words = nltk.word_tokenize(Ex)\n",
    "print(words)"
   ]
  },
  {
   "cell_type": "code",
   "execution_count": 9,
   "id": "6aa37112-5186-4712-80f5-5c616c1a9159",
   "metadata": {},
   "outputs": [
    {
     "name": "stdout",
     "output_type": "stream",
     "text": [
      "['love', 'echo', '!', '.', 'loved', '!', '.', 'sometimes', 'playing', 'game', ',', 'answer', 'question', 'correctly', 'alexa', 'says', 'got', 'wrong', 'answers', '.', 'like', 'able', 'turn', 'lights', 'away', 'home', '..', 'lot', 'fun', 'thing', '.', '4', 'yr', 'old', 'learns', 'dinosaurs', ',', 'control', 'lights', 'play', 'games', 'like', 'categories', '.', 'nice', 'sound', 'playing', 'music', 'well', '..', 'music']\n"
     ]
    }
   ],
   "source": [
    "without_stopword = [word for word in words if word not in stopword]\n",
    "print(without_stopword)"
   ]
  },
  {
   "cell_type": "code",
   "execution_count": 10,
   "id": "130c7323-0c7d-49da-b70a-a535990d8538",
   "metadata": {},
   "outputs": [
    {
     "name": "stdout",
     "output_type": "stream",
     "text": [
      "['love', 'echo', '!', '.', 'loved', '!', '.', 'sometimes', 'playing', 'game', ',', 'answer', 'question', 'correctly', 'alexa', 'say', 'got', 'wrong', 'answer', '.', 'like', 'able', 'turn', 'light', 'away', 'home', '..', 'lot', 'fun', 'thing', '.', '4', 'yr', 'old', 'learns', 'dinosaur', ',', 'control', 'light', 'play', 'game', 'like', 'category', '.', 'nice', 'sound', 'playing', 'music', 'well', '..', 'music']\n"
     ]
    }
   ],
   "source": [
    "lemmatizer = WordNetLemmatizer()\n",
    "lemmatized_output = ([lemmatizer.lemmatize(w) for w in without_stopword])\n",
    "print(lemmatized_output)"
   ]
  },
  {
   "cell_type": "code",
   "execution_count": 12,
   "id": "882a9703-c4c4-45fe-85cb-29e91f7a84d3",
   "metadata": {},
   "outputs": [
    {
     "name": "stdout",
     "output_type": "stream",
     "text": [
      "['love', 'echo', 'loved', 'sometimes', 'playing', 'game', 'answer', 'question', 'correctly', 'alexa', 'says', 'got', 'wrong', 'answers', 'like', 'able', 'turn', 'lights', 'away', 'home', 'lot', 'fun', 'thing', 'yr', 'old', 'learns', 'dinosaurs', 'control', 'lights', 'play', 'games', 'like', 'categories', 'nice', 'sound', 'playing', 'music', 'well', 'music']\n"
     ]
    }
   ],
   "source": [
    "without_punctuation = []\n",
    "for q in without_stopword:\n",
    "    if(q.isalpha()):\n",
    "        without_punctuation.append(q)\n",
    "print(without_punctuation)"
   ]
  },
  {
   "cell_type": "code",
   "execution_count": 14,
   "id": "7932abf4-3733-432d-bebb-e0d7bbc660b5",
   "metadata": {},
   "outputs": [
    {
     "name": "stdout",
     "output_type": "stream",
     "text": [
      "['love', 'echo', 'love', 'sometim', 'play', 'game', 'answer', 'question', 'correct', 'alexa', 'say', 'got', 'wrong', 'answer', 'like', 'abl', 'turn', 'light', 'away', 'home', 'lot', 'fun', 'thing', 'yr', 'old', 'learn', 'dinosaur', 'control', 'light', 'play', 'game', 'like', 'categori', 'nice', 'sound', 'play', 'music', 'well', 'music']\n"
     ]
    }
   ],
   "source": [
    "stemmed_words = []\n",
    "stemmer = SnowballStemmer(\"english\")\n",
    "for word in without_punctuation:\n",
    "    stemmed_words.append(stemmer.stem(word))\n",
    "print(stemmed_words)"
   ]
  },
  {
   "cell_type": "code",
   "execution_count": 15,
   "id": "269c7f3d-cfff-4fdc-a723-0433d950881b",
   "metadata": {},
   "outputs": [
    {
     "data": {
      "text/plain": [
       "[('love', 'VB'),\n",
       " ('echo', 'NN'),\n",
       " ('love', 'NN'),\n",
       " ('sometim', 'NN'),\n",
       " ('play', 'NN'),\n",
       " ('game', 'NN'),\n",
       " ('answer', 'JJR'),\n",
       " ('question', 'NN'),\n",
       " ('correct', 'NN'),\n",
       " ('alexa', 'NNS'),\n",
       " ('say', 'VBP'),\n",
       " ('got', 'VBD'),\n",
       " ('wrong', 'JJ'),\n",
       " ('answer', 'NN'),\n",
       " ('like', 'IN'),\n",
       " ('abl', 'JJ'),\n",
       " ('turn', 'VBP'),\n",
       " ('light', 'JJ'),\n",
       " ('away', 'RB'),\n",
       " ('home', 'NN'),\n",
       " ('lot', 'NN'),\n",
       " ('fun', 'JJ'),\n",
       " ('thing', 'NN'),\n",
       " ('yr', 'NN'),\n",
       " ('old', 'JJ'),\n",
       " ('learn', 'JJ'),\n",
       " ('dinosaur', 'NN'),\n",
       " ('control', 'NN'),\n",
       " ('light', 'JJ'),\n",
       " ('play', 'NN'),\n",
       " ('game', 'NN'),\n",
       " ('like', 'IN'),\n",
       " ('categori', 'JJ'),\n",
       " ('nice', 'JJ'),\n",
       " ('sound', 'NN'),\n",
       " ('play', 'NN'),\n",
       " ('music', 'NN'),\n",
       " ('well', 'RB'),\n",
       " ('music', 'NN')]"
      ]
     },
     "execution_count": 15,
     "metadata": {},
     "output_type": "execute_result"
    }
   ],
   "source": [
    "pos_tagged = nltk.pos_tag(stemmed_words)\n",
    "pos_tagged"
   ]
  },
  {
   "cell_type": "code",
   "execution_count": 16,
   "id": "f725186d-1933-4eba-aaec-22a23692b20b",
   "metadata": {},
   "outputs": [
    {
     "data": {
      "text/plain": [
       "['love my echo!.',\n",
       " 'loved it!.',\n",
       " 'sometimes while playing a game, you can answer a question correctly but alexa says you got it wrong and answers the same as you.',\n",
       " 'i like being able to turn lights on and off while away from home.. i have had a lot of fun with this thing.',\n",
       " 'my 4 yr old learns about dinosaurs, i control the lights and play games like categories.',\n",
       " 'has nice sound when playing music as well.. music']"
      ]
     },
     "execution_count": 16,
     "metadata": {},
     "output_type": "execute_result"
    }
   ],
   "source": [
    "sen = nltk.sent_tokenize(Ex)\n",
    "sen"
   ]
  },
  {
   "cell_type": "code",
   "execution_count": 17,
   "id": "85752ffa-4015-4613-bf9a-95623193e0de",
   "metadata": {},
   "outputs": [],
   "source": [
    "from sklearn.feature_extraction.text import TfidfVectorizer"
   ]
  },
  {
   "cell_type": "code",
   "execution_count": 18,
   "id": "75cb3463-3858-4c03-833a-9703a2785031",
   "metadata": {},
   "outputs": [
    {
     "data": {
      "text/plain": [
       "<6x58 sparse matrix of type '<class 'numpy.float64'>'\n",
       "\twith 68 stored elements in Compressed Sparse Row format>"
      ]
     },
     "execution_count": 18,
     "metadata": {},
     "output_type": "execute_result"
    }
   ],
   "source": [
    "tfidf = TfidfVectorizer()\n",
    "result = tfidf.fit_transform(sen)\n",
    "result"
   ]
  },
  {
   "cell_type": "code",
   "execution_count": 19,
   "id": "54d77ee2-d13f-49ef-b09f-34256c094d69",
   "metadata": {},
   "outputs": [
    {
     "name": "stdout",
     "output_type": "stream",
     "text": [
      "able : 2.252762968495368\n",
      "about : 2.252762968495368\n",
      "alexa : 2.252762968495368\n",
      "and : 1.5596157879354227\n",
      "answer : 2.252762968495368\n",
      "answers : 2.252762968495368\n",
      "as : 1.8472978603872037\n",
      "away : 2.252762968495368\n",
      "being : 2.252762968495368\n",
      "but : 2.252762968495368\n",
      "can : 2.252762968495368\n",
      "categories : 2.252762968495368\n",
      "control : 2.252762968495368\n",
      "correctly : 2.252762968495368\n",
      "dinosaurs : 2.252762968495368\n",
      "echo : 2.252762968495368\n",
      "from : 2.252762968495368\n",
      "fun : 2.252762968495368\n",
      "game : 2.252762968495368\n",
      "games : 2.252762968495368\n",
      "got : 2.252762968495368\n",
      "had : 2.252762968495368\n",
      "has : 2.252762968495368\n",
      "have : 2.252762968495368\n",
      "home : 2.252762968495368\n",
      "it : 1.8472978603872037\n",
      "learns : 2.252762968495368\n",
      "lights : 1.8472978603872037\n",
      "like : 1.8472978603872037\n",
      "lot : 2.252762968495368\n",
      "love : 2.252762968495368\n",
      "loved : 2.252762968495368\n",
      "music : 2.252762968495368\n",
      "my : 1.8472978603872037\n",
      "nice : 2.252762968495368\n",
      "of : 2.252762968495368\n",
      "off : 2.252762968495368\n",
      "old : 2.252762968495368\n",
      "on : 2.252762968495368\n",
      "play : 2.252762968495368\n",
      "playing : 1.8472978603872037\n",
      "question : 2.252762968495368\n",
      "same : 2.252762968495368\n",
      "says : 2.252762968495368\n",
      "sometimes : 2.252762968495368\n",
      "sound : 2.252762968495368\n",
      "the : 1.8472978603872037\n",
      "thing : 2.252762968495368\n",
      "this : 2.252762968495368\n",
      "to : 2.252762968495368\n",
      "turn : 2.252762968495368\n",
      "well : 2.252762968495368\n",
      "when : 2.252762968495368\n",
      "while : 1.8472978603872037\n",
      "with : 2.252762968495368\n",
      "wrong : 2.252762968495368\n",
      "you : 2.252762968495368\n",
      "yr : 2.252762968495368\n"
     ]
    }
   ],
   "source": [
    "for ele1, ele2 in zip(tfidf.get_feature_names_out(), tfidf.idf_):\n",
    "    print(ele1, ':', ele2)"
   ]
  },
  {
   "cell_type": "code",
   "execution_count": 20,
   "id": "45324220-b532-474c-90d9-edd77b493002",
   "metadata": {},
   "outputs": [
    {
     "name": "stdout",
     "output_type": "stream",
     "text": [
      "\n",
      "Word indexes:\n",
      "{'love': 30, 'my': 33, 'echo': 15, 'loved': 31, 'it': 25, 'sometimes': 44, 'while': 53, 'playing': 40, 'game': 18, 'you': 56, 'can': 10, 'answer': 4, 'question': 41, 'correctly': 13, 'but': 9, 'alexa': 2, 'says': 43, 'got': 20, 'wrong': 55, 'and': 3, 'answers': 5, 'the': 46, 'same': 42, 'as': 6, 'like': 28, 'being': 8, 'able': 0, 'to': 49, 'turn': 50, 'lights': 27, 'on': 38, 'off': 36, 'away': 7, 'from': 16, 'home': 24, 'have': 23, 'had': 21, 'lot': 29, 'of': 35, 'fun': 17, 'with': 54, 'this': 48, 'thing': 47, 'yr': 57, 'old': 37, 'learns': 26, 'about': 1, 'dinosaurs': 14, 'control': 12, 'play': 39, 'games': 19, 'categories': 11, 'has': 22, 'nice': 34, 'sound': 45, 'when': 52, 'music': 32, 'well': 51}\n"
     ]
    }
   ],
   "source": [
    "print('\\nWord indexes:')\n",
    "print(tfidf.vocabulary_)"
   ]
  },
  {
   "cell_type": "code",
   "execution_count": 21,
   "id": "3e8acf44-353c-46e0-9409-d375671e04f8",
   "metadata": {},
   "outputs": [
    {
     "name": "stdout",
     "output_type": "stream",
     "text": [
      "\n",
      "tf-idf value:\n",
      "  (0, 15)\t0.6117125098631682\n",
      "  (0, 33)\t0.501613008756558\n",
      "  (0, 30)\t0.6117125098631682\n",
      "  (1, 25)\t0.6340862024337309\n",
      "  (1, 31)\t0.7732623667832087\n",
      "  (2, 6)\t0.16131074373398785\n",
      "  (2, 42)\t0.1967169873883817\n",
      "  (2, 46)\t0.16131074373398785\n",
      "  (2, 5)\t0.1967169873883817\n",
      "  (2, 3)\t0.1361896140768546\n",
      "  (2, 55)\t0.1967169873883817\n",
      "  (2, 20)\t0.1967169873883817\n",
      "  (2, 43)\t0.1967169873883817\n",
      "  (2, 2)\t0.1967169873883817\n",
      "  (2, 9)\t0.1967169873883817\n",
      "  (2, 13)\t0.1967169873883817\n",
      "  (2, 41)\t0.1967169873883817\n",
      "  (2, 4)\t0.1967169873883817\n",
      "  (2, 10)\t0.1967169873883817\n",
      "  (2, 56)\t0.5901509621651451\n",
      "  (2, 18)\t0.1967169873883817\n",
      "  (2, 40)\t0.16131074373398785\n",
      "  (2, 53)\t0.16131074373398785\n",
      "  (2, 44)\t0.1967169873883817\n",
      "  (2, 25)\t0.16131074373398785\n",
      "  :\t:\n",
      "  (3, 28)\t0.18571302192389322\n",
      "  (3, 3)\t0.1567916940893283\n",
      "  (3, 53)\t0.18571302192389322\n",
      "  (4, 11)\t0.2866637164274553\n",
      "  (4, 19)\t0.2866637164274553\n",
      "  (4, 39)\t0.2866637164274553\n",
      "  (4, 12)\t0.2866637164274553\n",
      "  (4, 14)\t0.2866637164274553\n",
      "  (4, 1)\t0.2866637164274553\n",
      "  (4, 26)\t0.2866637164274553\n",
      "  (4, 37)\t0.2866637164274553\n",
      "  (4, 57)\t0.2866637164274553\n",
      "  (4, 27)\t0.23506834825182413\n",
      "  (4, 28)\t0.23506834825182413\n",
      "  (4, 46)\t0.23506834825182413\n",
      "  (4, 3)\t0.19846085194977828\n",
      "  (4, 33)\t0.23506834825182413\n",
      "  (5, 51)\t0.3109123445439382\n",
      "  (5, 32)\t0.6218246890878764\n",
      "  (5, 52)\t0.3109123445439382\n",
      "  (5, 45)\t0.3109123445439382\n",
      "  (5, 34)\t0.3109123445439382\n",
      "  (5, 22)\t0.3109123445439382\n",
      "  (5, 6)\t0.25495257018877393\n",
      "  (5, 40)\t0.25495257018877393\n"
     ]
    }
   ],
   "source": [
    "print('\\ntf-idf value:')\n",
    "print(result)"
   ]
  },
  {
   "cell_type": "code",
   "execution_count": 22,
   "id": "25585b67-bf7d-4cd7-9f20-b53efc9df25f",
   "metadata": {},
   "outputs": [
    {
     "name": "stdout",
     "output_type": "stream",
     "text": [
      "\n",
      "tf-idf values in matrix form:\n",
      "[[0.         0.         0.         0.         0.         0.\n",
      "  0.         0.         0.         0.         0.         0.\n",
      "  0.         0.         0.         0.61171251 0.         0.\n",
      "  0.         0.         0.         0.         0.         0.\n",
      "  0.         0.         0.         0.         0.         0.\n",
      "  0.61171251 0.         0.         0.50161301 0.         0.\n",
      "  0.         0.         0.         0.         0.         0.\n",
      "  0.         0.         0.         0.         0.         0.\n",
      "  0.         0.         0.         0.         0.         0.\n",
      "  0.         0.         0.         0.        ]\n",
      " [0.         0.         0.         0.         0.         0.\n",
      "  0.         0.         0.         0.         0.         0.\n",
      "  0.         0.         0.         0.         0.         0.\n",
      "  0.         0.         0.         0.         0.         0.\n",
      "  0.         0.6340862  0.         0.         0.         0.\n",
      "  0.         0.77326237 0.         0.         0.         0.\n",
      "  0.         0.         0.         0.         0.         0.\n",
      "  0.         0.         0.         0.         0.         0.\n",
      "  0.         0.         0.         0.         0.         0.\n",
      "  0.         0.         0.         0.        ]\n",
      " [0.         0.         0.19671699 0.13618961 0.19671699 0.19671699\n",
      "  0.16131074 0.         0.         0.19671699 0.19671699 0.\n",
      "  0.         0.19671699 0.         0.         0.         0.\n",
      "  0.19671699 0.         0.19671699 0.         0.         0.\n",
      "  0.         0.16131074 0.         0.         0.         0.\n",
      "  0.         0.         0.         0.         0.         0.\n",
      "  0.         0.         0.         0.         0.16131074 0.19671699\n",
      "  0.19671699 0.19671699 0.19671699 0.         0.16131074 0.\n",
      "  0.         0.         0.         0.         0.         0.16131074\n",
      "  0.         0.19671699 0.59015096 0.        ]\n",
      " [0.22647534 0.         0.         0.15679169 0.         0.\n",
      "  0.         0.22647534 0.22647534 0.         0.         0.\n",
      "  0.         0.         0.         0.         0.22647534 0.22647534\n",
      "  0.         0.         0.         0.22647534 0.         0.22647534\n",
      "  0.22647534 0.         0.         0.18571302 0.18571302 0.22647534\n",
      "  0.         0.         0.         0.         0.         0.22647534\n",
      "  0.22647534 0.         0.22647534 0.         0.         0.\n",
      "  0.         0.         0.         0.         0.         0.22647534\n",
      "  0.22647534 0.22647534 0.22647534 0.         0.         0.18571302\n",
      "  0.22647534 0.         0.         0.        ]\n",
      " [0.         0.28666372 0.         0.19846085 0.         0.\n",
      "  0.         0.         0.         0.         0.         0.28666372\n",
      "  0.28666372 0.         0.28666372 0.         0.         0.\n",
      "  0.         0.28666372 0.         0.         0.         0.\n",
      "  0.         0.         0.28666372 0.23506835 0.23506835 0.\n",
      "  0.         0.         0.         0.23506835 0.         0.\n",
      "  0.         0.28666372 0.         0.28666372 0.         0.\n",
      "  0.         0.         0.         0.         0.23506835 0.\n",
      "  0.         0.         0.         0.         0.         0.\n",
      "  0.         0.         0.         0.28666372]\n",
      " [0.         0.         0.         0.         0.         0.\n",
      "  0.25495257 0.         0.         0.         0.         0.\n",
      "  0.         0.         0.         0.         0.         0.\n",
      "  0.         0.         0.         0.         0.31091234 0.\n",
      "  0.         0.         0.         0.         0.         0.\n",
      "  0.         0.         0.62182469 0.         0.31091234 0.\n",
      "  0.         0.         0.         0.         0.25495257 0.\n",
      "  0.         0.         0.         0.31091234 0.         0.\n",
      "  0.         0.         0.         0.31091234 0.31091234 0.\n",
      "  0.         0.         0.         0.        ]]\n"
     ]
    }
   ],
   "source": [
    "print('\\ntf-idf values in matrix form:')\n",
    "print(result.toarray())"
   ]
  },
  {
   "cell_type": "code",
   "execution_count": null,
   "id": "dbaf853c-c942-4f92-bc70-409eb408c54d",
   "metadata": {},
   "outputs": [],
   "source": []
  }
 ],
 "metadata": {
  "kernelspec": {
   "display_name": "Python 3 (ipykernel)",
   "language": "python",
   "name": "python3"
  },
  "language_info": {
   "codemirror_mode": {
    "name": "ipython",
    "version": 3
   },
   "file_extension": ".py",
   "mimetype": "text/x-python",
   "name": "python",
   "nbconvert_exporter": "python",
   "pygments_lexer": "ipython3",
   "version": "3.11.7"
  }
 },
 "nbformat": 4,
 "nbformat_minor": 5
}
